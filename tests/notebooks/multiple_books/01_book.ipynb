{
 "cells": [
  {
   "attachments": {},
   "cell_type": "markdown",
   "metadata": {
    "tags": [
     "new-page",
     "add-to-page"
    ]
   },
   "source": [
    "<!--! new; start-add; -->\n",
    "# This is the first page.\n",
    "- It is automatically implemented, because the parent folder was passed in as an argument."
   ]
  }
 ],
 "metadata": {
  "kernelspec": {
   "display_name": "Python 3 (ipykernel)",
   "language": "python",
   "name": "python3"
  },
  "orig_nbformat": 4
 },
 "nbformat": 4,
 "nbformat_minor": 2
}
