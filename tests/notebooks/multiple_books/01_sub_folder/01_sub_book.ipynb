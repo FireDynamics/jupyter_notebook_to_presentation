{
 "cells": [
  {
   "attachments": {},
   "cell_type": "markdown",
   "metadata": {
    "tags": [
     "new-page",
     "add-to-page"
    ]
   },
   "source": [
    "# This is a sub book\n",
    "\n",
    "- It gets automatically implemented, if any root folder was passed as import argument.\n",
    "- First all parent `.ipynb` files are implemented then the files in the folder."
   ]
  }
 ],
 "metadata": {
  "kernelspec": {
   "display_name": "Python 3 (ipykernel)",
   "language": "python",
   "name": "python3"
  },
  "orig_nbformat": 4
 },
 "nbformat": 4,
 "nbformat_minor": 2
}
