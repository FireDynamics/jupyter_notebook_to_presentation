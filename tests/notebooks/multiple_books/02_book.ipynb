{
 "cells": [
  {
   "attachments": {},
   "cell_type": "markdown",
   "metadata": {
    "tags": [
     "new-page",
     "add-to-page"
    ]
   },
   "source": [
    "# This is the second page\n",
    "- it is implemented too.\n",
    "- every `.ipynb` file in a folder will be implemented alphabetically.\n",
    "- other files will be ignored.\n",
    "- before any other tags are used `new-page` has to be set first in every notebook. Calling `add-to-page` from a new notebook would raise an error. It is not possible to add / insert to a page of a different notebook."
   ]
  },
  {
   "attachments": {},
   "cell_type": "markdown",
   "metadata": {
    "tags": [
     "new-page",
     "add-to-page"
    ]
   },
   "source": [
    "# Some limitations\n",
    "- It is not possible to change the ordering or exclude a file."
   ]
  }
 ],
 "metadata": {
  "kernelspec": {
   "display_name": "Python 3 (ipykernel)",
   "language": "python",
   "name": "python3"
  },
  "orig_nbformat": 4
 },
 "nbformat": 4,
 "nbformat_minor": 2
}
