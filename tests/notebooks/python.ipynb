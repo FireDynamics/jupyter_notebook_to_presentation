{
    "cells": [
        {
            "attachments": {},
            "cell_type": "markdown",
            "metadata": {
                "tags": [
                    "new-page",
                    "add-to-page"
                ]
            },
            "source": [
                "# Display Python code"
            ]
        },
        {
            "attachments": {},
            "cell_type": "markdown",
            "metadata": {
                "tags": [
                    "new-page",
                    "add-to-page"
                ]
            },
            "source": [
                "## Code with output."
            ]
        },
        {
            "cell_type": "code",
            "execution_count": 1,
            "metadata": {
                "tags": [
                    "add-to-page",
                    "add-stream-to-page"
                ]
            },
            "outputs": [
                {
                    "name": "stdout",
                    "output_type": "stream",
                    "text": [
                        "hello\n"
                    ]
                }
            ],
            "source": [
                "def print_hello():\n",
                "    print(\"hello\")\n",
                "\n",
                "print_hello()"
            ]
        },
        {
            "attachments": {},
            "cell_type": "markdown",
            "metadata": {
                "tags": [
                    "new-page",
                    "add-to-page"
                ]
            },
            "source": [
                "## Code ignore output."
            ]
        },
        {
            "cell_type": "code",
            "execution_count": 2,
            "metadata": {
                "tags": [
                    "add-to-page"
                ]
            },
            "outputs": [
                {
                    "name": "stdout",
                    "output_type": "stream",
                    "text": [
                        "hello\n"
                    ]
                }
            ],
            "source": [
                "def print_hello():\n",
                "    print(\"hello\")\n",
                "\n",
                "print_hello()"
            ]
        },
        {
            "attachments": {},
            "cell_type": "markdown",
            "metadata": {
                "tags": [
                    "new-page",
                    "add-to-page"
                ]
            },
            "source": [
                "## Show only output."
            ]
        },
        {
            "cell_type": "code",
            "execution_count": 3,
            "metadata": {
                "tags": [
                    "add-stream-to-page"
                ]
            },
            "outputs": [
                {
                    "name": "stdout",
                    "output_type": "stream",
                    "text": [
                        "hello\n"
                    ]
                }
            ],
            "source": [
                "def print_hello():\n",
                "    print(\"hello\")\n",
                "\n",
                "print_hello()"
            ]
        },
        {
            "attachments": {},
            "cell_type": "markdown",
            "metadata": {
                "tags": [
                    "new-page",
                    "add-to-page"
                ]
            },
            "source": [
                "## Code with error"
            ]
        },
        {
            "cell_type": "code",
            "execution_count": 6,
            "metadata": {
                "tags": [
                    "add-to-page",
                    "add-stream-to-page",
                    "add-error-to-page"
                ]
            },
            "outputs": [
                {
                    "name": "stdout",
                    "output_type": "stream",
                    "text": [
                        "1 + 1 = 2\n"
                    ]
                },
                {
                    "ename": "TypeError",
                    "evalue": "can only concatenate str (not \"int\") to str",
                    "output_type": "error",
                    "traceback": [
                        "Removed sensible infos"
                    ]
                }
            ],
            "source": [
                "def add_one(number):\n",
                "    return number + 1\n",
                "\n",
                "print(f\"1 + 1 = {add_one(1)}\")\n",
                "print(f\"1 + 'error' = {add_one('error')}\")"
            ]
        },
        {
            "attachments": {},
            "cell_type": "markdown",
            "metadata": {
                "tags": [
                    "new-page",
                    "add-to-page"
                ]
            },
            "source": [
                "## Code ignore error"
            ]
        },
        {
            "cell_type": "code",
            "execution_count": 7,
            "metadata": {
                "tags": [
                    "add-to-page",
                    "add-stream-to-page"
                ]
            },
            "outputs": [
                {
                    "name": "stdout",
                    "output_type": "stream",
                    "text": [
                        "1 + 1 = 2\n"
                    ]
                },
                {
                    "ename": "TypeError",
                    "evalue": "can only concatenate str (not \"int\") to str",
                    "output_type": "error",
                    "traceback": [
                        "Removed sensible infos"
                    ]
                }
            ],
            "source": [
                "def add_one(number):\n",
                "    return number + 1\n",
                "\n",
                "print(f\"1 + 1 = {add_one(1)}\")\n",
                "print(f\"1 + 'error' = {add_one('error')}\")"
            ]
        },
        {
            "attachments": {},
            "cell_type": "markdown",
            "metadata": {
                "tags": [
                    "new-page",
                    "add-to-page"
                ]
            },
            "source": [
                "## Only error"
            ]
        },
        {
            "cell_type": "code",
            "execution_count": 8,
            "metadata": {
                "tags": [
                    "add-error-to-page"
                ]
            },
            "outputs": [
                {
                    "name": "stdout",
                    "output_type": "stream",
                    "text": [
                        "1 + 1 = 2\n"
                    ]
                },
                {
                    "ename": "TypeError",
                    "evalue": "can only concatenate str (not \"int\") to str",
                    "output_type": "error",
                    "traceback": [
                        "Removed sensible infos"
                    ]
                }
            ],
            "source": [
                "def add_one(number):\n",
                "    return number + 1\n",
                "\n",
                "print(f\"1 + 1 = {add_one(1)}\")\n",
                "print(f\"1 + 'error' = {add_one('error')}\")"
            ]
        },
        {
            "attachments": {},
            "cell_type": "markdown",
            "metadata": {
                "tags": [
                    "new-page",
                    "add-to-page"
                ]
            },
            "source": [
                "## Implement of unsaved images is not possible"
            ]
        },
        {
            "cell_type": "code",
            "execution_count": null,
            "metadata": {
                "tags": [
                    "add-to-page"
                ]
            },
            "outputs": [
                {
                    "data": {
                        "image/png": "[encoded data removed]",
                        "text/plain": [
                            "<Figure size 432x288 with 1 Axes>"
                        ]
                    },
                    "metadata": {
                        "needs_background": "light"
                    },
                    "output_type": "display_data"
                }
            ],
            "source": [
                "import matplotlib.pyplot as plt\n",
                "\n",
                "plt.plot([1,2], [3,4])\n",
                "plt.show()"
            ]
        }
    ],
    "metadata": {
        "kernelspec": {
            "display_name": "Python 3 (ipykernel)",
            "language": "python",
            "name": "python3"
        },
        "language_info": {
            "codemirror_mode": {
                "name": "ipython",
                "version": 3
            },
            "file_extension": ".py",
            "mimetype": "text/x-python",
            "name": "python",
            "nbconvert_exporter": "python",
            "pygments_lexer": "ipython3",
            "version": "3.10.10"
        },
        "orig_nbformat": 4
    },
    "nbformat": 4,
    "nbformat_minor": 2
}
