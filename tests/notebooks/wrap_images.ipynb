{
    "cells": [
        {
            "attachments": {},
            "cell_type": "markdown",
            "metadata": {
                "tags": [
                    "new-page",
                    "add-to-page"
                ]
            },
            "source": [
                "# Test wrapping Images"
            ]
        },
        {
            "attachments": {},
            "cell_type": "markdown",
            "metadata": {
                "tags": [
                    "new-page",
                    "add-to-page"
                ]
            },
            "source": [
                "## Switch image place."
            ]
        },
        {
            "attachments": {},
            "cell_type": "markdown",
            "metadata": {
                "tags": [
                    "wrap-image[<img src=\"{}\">\n\n![Image1]({})]"
                ]
            },
            "source": [
                "Here Is a cell with images.  \n",
                "<img src = \"./../images/image2.png\">  ",
                "The text gets ignored.  \n",
                "![Image1](./../images/image1.png)  \n"
            ]
        },
        {
            "attachments": {},
            "cell_type": "markdown",
            "metadata": {
                "tags": [
                    "new-page",
                    "add-to-page"
                ]
            },
            "source": [
                "## Image side by side"
            ]
        },
        {
            "attachments": {},
            "cell_type": "markdown",
            "metadata": {
                "tags": [
                    "wrap-image[<table><img src=\"{}\"> </td><img src=\"{}\"> </td></table>]"
                ]
            },
            "source": [
                "Both images will be next to each other  \n",
                "![Image 1](./../images/image1.png)  \n",
                "![Image 2](./../images/image2.png)  "
            ]
        },
        {
            "attachments": {},
            "cell_type": "markdown",
            "metadata": {
                "tags": [
                    "new-page",
                    "add-to-page"
                ]
            },
            "source": [
                "## One image per page"
            ]
        },
        {
            "attachments": {},
            "cell_type": "markdown",
            "metadata": {
                "tags": [
                    "new-page",
                    "inject-to-page[### Image 2  \n]",
                    "wrap-image[![]({1})]",
                    "new-page",
                    "inject-to-page[### Image 1  \n]",
                    "wrap-image[![]({0})]"
                ]
            },
            "source": [
                "Image 1 will be after Image 2  \n",
                "![Image 1](./../images/image1.png)  \n",
                "![Image 2](./../images/image2.png)  "
            ]
        }
    ],
    "metadata": {
        "kernelspec": {
            "display_name": "Python 3 (ipykernel)",
            "language": "python",
            "name": "python3"
        },
        "orig_nbformat": 4
    },
    "nbformat": 4,
    "nbformat_minor": 2
}