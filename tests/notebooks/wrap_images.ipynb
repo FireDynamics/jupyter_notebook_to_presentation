{
    "cells": [
        {
            "attachments": {},
            "cell_type": "markdown",
            "metadata": {
                "tags": []
            },
            "source": [
                "<!--! new; start-add; -->\n",
                "# Test wrapping Images"
            ]
        },
        {
            "attachments": {},
            "cell_type": "markdown",
            "metadata": {
                "tags": [
                    "new-page",
                    "add-to-page"
                ]
            },
            "source": [
                "<!--! new; start-add; -->\n",
                "## Switch image place."
            ]
        },
        {
            "attachments": {},
            "cell_type": "markdown",
            "metadata": {
                "tags": []
            },
            "source": [
                "<!--! image[\\n<img src=\\\"{}\\\"> !\\[Image1\\]({})]; -->\n",
                "Here Is a cell with images.  \n",
                "<img src = \"./../images/image2.png\">  \n",
                "The text gets ignored.  \n",
                "![Image1](./../images/image1.png)  \n"
            ]
        },
        {
            "attachments": {},
            "cell_type": "markdown",
            "metadata": {
                "tags": [
                    "new-page",
                    "add-to-page"
                ]
            },
            "source": [
                "<!--! new; start-add; -->\n",
                "## Image side by side"
            ]
        },
        {
            "attachments": {},
            "cell_type": "markdown",
            "metadata": {
                "tags": []
            },
            "source": [
                "<!--! image[\\n<table><img src=\\\"{}\\\"> </td><img src=\\\"{}\\\"> </td></table>]; -->\n",
                "Both images will be next to each other  \n",
                "![Image 1](./../images/image1.png)  \n",
                "![Image 2](./../images/image2.png)  "
            ]
        },
        {
            "attachments": {},
            "cell_type": "markdown",
            "metadata": {
                "tags": []
            },
            "source": [
                "<!--! new; start-add; -->\n",
                "## One image per page"
            ]
        },
        {
            "attachments": {},
            "cell_type": "markdown",
            "metadata": {
                "tags": []
            },
            "source": [
                "<!--! \n",
                "    new; inject[### Image 2\\n]; \n",
                "    image[\n",
                "        !\\[\\]({1})\n",
                "    ]; \n",
                "    new; \n",
                "    inject[### Image 1\\n];\n",
                "    image[\n",
                "        !\\[\\]({0})\n",
                "    ];\n",
                "-->\n",
                "Image 1 will be after Image 2  \n",
                "![Image 1](./../images/image1.png)  \n",
                "![Image 2](./../images/image2.png)  "
            ]
        }
    ],
    "metadata": {
        "kernelspec": {
            "display_name": "Python 3 (ipykernel)",
            "language": "python",
            "name": "python3"
        },
        "orig_nbformat": 4
    },
    "nbformat": 4,
    "nbformat_minor": 2
}
