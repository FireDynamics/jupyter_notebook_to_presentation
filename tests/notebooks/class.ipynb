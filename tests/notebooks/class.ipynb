{
    "cells": [
        {
            "attachments": {},
            "cell_type": "markdown",
            "metadata": {
                "tags": [
                    "new-page",
                    "add-to-page",
                    "class[topic]"
                ]
            },
            "source": [
                "# This book should demonstrate the page class\n",
                "- there fore this page is the class `topic`"
            ]
        },
        {
            "attachments": {},
            "cell_type": "markdown",
            "metadata": {
                "tags": [
                    "new-page",
                    "add-to-page",
                    "class[rotate]"
                ]
            },
            "source": [
                "## This Page has a different class\n",
                "- the class in questioning is `rotate`"
            ]
        },
        {
            "attachments": {},
            "cell_type": "markdown",
            "metadata": {
                "tags": [
                    "new-page",
                    "class[topic]",
                    "add-to-page"
                ]
            },
            "source": [
                "# The tags will override each other\n",
                "- first wie set the page to `topic`"
            ]
        },
        {
            "attachments": {},
            "cell_type": "markdown",
            "metadata": {
                "tags": []
            },
            "source": [
                "- but change it to `rotate`\n",
                "- the `class[...]` tag changes the latest page topic"
            ]
        }
    ],
    "metadata": {
        "language_info": {
            "name": "python"
        },
        "orig_nbformat": 4
    },
    "nbformat": 4,
    "nbformat_minor": 2
}