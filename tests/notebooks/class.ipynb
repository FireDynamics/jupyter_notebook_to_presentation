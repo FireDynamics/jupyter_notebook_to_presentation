{
    "cells": [
        {
            "attachments": {},
            "cell_type": "markdown",
            "metadata": {
                "tags": []
            },
            "source": [
                "<!--! new; start-add; class[topic]; -->\n",
                "# This book should demonstrate the page class\n",
                "- there fore this page is the class `topic`"
            ]
        },
        {
            "attachments": {},
            "cell_type": "markdown",
            "metadata": {
                "tags": []
            },
            "source": [
                "<!--! new; start-add; class[rotate]; -->\n",
                "## This Page has a different class\n",
                "- the class in questioning is `rotate`"
            ]
        },
        {
            "attachments": {},
            "cell_type": "markdown",
            "metadata": {
                "tags": [
                    "new-page",
                    "class[topic]",
                    "add-to-page"
                ]
            },
            "source": [
                "<!--! new; start-add; class[topic]; -->\n",
                "# The tags will override each other\n",
                "- first will set the page to `topic`"
            ]
        },
        {
            "attachments": {},
            "cell_type": "markdown",
            "metadata": {
                "tags": []
            },
            "source": [
                "<!--! class[rotate]; start-add; -->\n",
                "- but change it to `rotate`\n",
                "- the `class[...]` tag changes the latest page topic"
            ]
        }
    ],
    "metadata": {
        "kernelspec": {
            "display_name": "Python 3 (ipykernel)",
            "language": "python",
            "name": "python3"
        },
        "orig_nbformat": 4
    },
    "nbformat": 4,
    "nbformat_minor": 2
}
